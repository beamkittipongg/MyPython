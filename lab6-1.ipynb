{
 "cells": [
  {
   "cell_type": "code",
   "execution_count": 1,
   "metadata": {},
   "outputs": [
    {
     "name": "stdout",
     "output_type": "stream",
     "text": [
      "Hello Kittipong\n"
     ]
    }
   ],
   "source": [
    "print(\"Hello Kittipong\")"
   ]
  },
  {
   "cell_type": "code",
   "execution_count": 2,
   "metadata": {},
   "outputs": [
    {
     "name": "stdout",
     "output_type": "stream",
     "text": [
      "30\n"
     ]
    }
   ],
   "source": [
    "a = 10\n",
    "b = 20\n",
    "print(a+b)"
   ]
  },
  {
   "cell_type": "code",
   "execution_count": 3,
   "metadata": {},
   "outputs": [
    {
     "name": "stdout",
     "output_type": "stream",
     "text": [
      "Hello 1\n",
      "Hello 1\n",
      "Hello 1\n",
      "Hello 1\n",
      "Hello 1\n",
      "Hello 1\n",
      "Hello 1\n",
      "Hello 1\n",
      "Hello 1\n",
      "Hello 1\n"
     ]
    }
   ],
   "source": [
    "for i in range (10):\n",
    "        print(\"Hello %d\" %1)"
   ]
  },
  {
   "cell_type": "code",
   "execution_count": 5,
   "metadata": {},
   "outputs": [
    {
     "name": "stdout",
     "output_type": "stream",
     "text": [
      "อุณหภูมิ 50.00\n",
      "ฟาเรนไฮล์ 283.15\n"
     ]
    }
   ],
   "source": [
    "def p(c):\n",
    "    f = ((9/5)*c)+32\n",
    "    return f\n",
    "def o(c):\n",
    "    k = c + 273.15\n",
    "    return k\n",
    "c = float(input(\"ใส่องศาc : \"))\n",
    "print(\"อุณหภูมิ %.2f\" % p(c))\n",
    "print(\"ฟาเรนไฮล์ %.2f\" % o(c))"
   ]
  },
  {
   "cell_type": "code",
   "execution_count": 8,
   "metadata": {},
   "outputs": [
    {
     "name": "stdout",
     "output_type": "stream",
     "text": [
      "ไม่สามารถใส่คะแนนมากกว่า 20 คะแนนได้\n",
      "ไม่สามารถใส่คะแนนมากกว่า 20 คะแนนได้\n",
      "ไม่สามารถใส่คะแนนมากกว่า 20 คะแนนได้\n",
      "ไม่สามารถใส่คะแนนมากกว่า 20 คะแนนได้\n",
      "ไม่สามารถใส่คะแนนมากกว่า 20 คะแนนได้\n",
      "ไม่สามารถใส่คะแนนมากกว่า 20 คะแนนได้\n",
      "ไม่สามารถใส่คะแนนมากกว่า 20 คะแนนได้\n",
      "คะแนนรวม = 50.0\n"
     ]
    }
   ],
   "source": [
    "a = float(input(\"กรุณาป้อนคะแนนเก็บ: \"))\n",
    "while a > 20:\n",
    "    print(\"ไม่สามารถใส่คะแนนมากกว่า 20 คะแนนได้\")\n",
    "    a = int(input(\"กรุณาป้อนคะแนนเก็บ\"))   \n",
    "b = float(input(\"กรุณาป้อนคะแนนเก็บ: \"))\n",
    "while b > 10:\n",
    "    print(\"ไม่สามารถใส่คะแนนมากกว่า 10 คะแนนได้\")\n",
    "    b = int(input(\"กรุณาป้อนคะแนนจิตพิสัย\"))\n",
    "c = float(input(\"กรุณาป้อนคะแนนเก็บ: \"))\n",
    "while c > 20:\n",
    "    print(\"ไม่สามารถใส่คะแนนมากกว่า 20 คะแนนได้\")\n",
    "    c = int(input(\"กรุณาป้อนคะแนนกลางภาค\"))\n",
    "def QQ(a,b,c):\n",
    "    total_score = a+b+c\n",
    "    return total_score\n",
    "total_score = QQ(a,b,c)\n",
    "if total_score > QQ(a,b,c):\n",
    "    print(\"ผลรวมคะแนนเกิน 50 คะแนน กรุณาป้อนคะแนนใหม่\")\n",
    "else:\n",
    "    print(\"คะแนนรวม =\", total_score)"
   ]
  }
 ],
 "metadata": {
  "kernelspec": {
   "display_name": "Python 3",
   "language": "python",
   "name": "python3"
  },
  "language_info": {
   "codemirror_mode": {
    "name": "ipython",
    "version": 3
   },
   "file_extension": ".py",
   "mimetype": "text/x-python",
   "name": "python",
   "nbconvert_exporter": "python",
   "pygments_lexer": "ipython3",
   "version": "3.12.3"
  }
 },
 "nbformat": 4,
 "nbformat_minor": 2
}
