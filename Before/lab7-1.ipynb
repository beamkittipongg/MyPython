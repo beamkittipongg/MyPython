{
 "cells": [
  {
   "cell_type": "code",
   "execution_count": 3,
   "metadata": {},
   "outputs": [
    {
     "name": "stdout",
     "output_type": "stream",
     "text": [
      "ชื่อพนักงาน: beam\n",
      "เงินเดือน: 7000\n",
      "ค่าล่วงเวลา: 700.0\n",
      "เงินเดือนทั้งหมด: 7700.0\n"
     ]
    }
   ],
   "source": [
    "name = str(input(\"กรุณาป้อนชื่อพนักงาน \"))\n",
    "money = int(input(\"กรุณาป้อนเงืนเดือน \"))\n",
    "time = float(input(\"กรุณาป้อนชั่วโมงทำงาน \"))\n",
    "def Calculator (time):\n",
    "    if time > 40:\n",
    "        a = time * 150\n",
    "    else :\n",
    "        a = time * 100\n",
    "    return a\n",
    "def Calculator1 (money, time):\n",
    "    if time > 40:\n",
    "        a = time * 150\n",
    "        b = money + a\n",
    "    else :\n",
    "        a = time * 100\n",
    "        b = money + a\n",
    "    return b\n",
    "\n",
    "c = Calculator (time)\n",
    "d = Calculator1 (money,time)\n",
    "print(\"ชื่อพนักงาน:\", name)\n",
    "print(\"เงินเดือน:\", money)\n",
    "print(\"ค่าล่วงเวลา:\", c)\n",
    "print(\"เงินเดือนทั้งหมด:\",d)"
   ]
  }
 ],
 "metadata": {
  "kernelspec": {
   "display_name": "Python 3",
   "language": "python",
   "name": "python3"
  },
  "language_info": {
   "codemirror_mode": {
    "name": "ipython",
    "version": 3
   },
   "file_extension": ".py",
   "mimetype": "text/x-python",
   "name": "python",
   "nbconvert_exporter": "python",
   "pygments_lexer": "ipython3",
   "version": "3.12.3"
  }
 },
 "nbformat": 4,
 "nbformat_minor": 2
}
